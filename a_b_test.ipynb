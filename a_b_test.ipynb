{
  "nbformat": 4,
  "nbformat_minor": 0,
  "metadata": {
    "colab": {
      "name": "ab test.ipynb",
      "provenance": []
    },
    "kernelspec": {
      "name": "python3",
      "display_name": "Python 3"
    },
    "language_info": {
      "name": "python"
    }
  },
  "cells": [
    {
      "cell_type": "markdown",
      "metadata": {
        "id": "gnnxkZdW_iCX"
      },
      "source": [
        "#A/B Тест\n",
        "## Импортируем необходимые библиотеки"
      ]
    },
    {
      "cell_type": "code",
      "metadata": {
        "id": "4Er6pzylFpEo"
      },
      "source": [
        "import pandas as pd\n",
        "import statsmodels.stats.api as sms\n",
        "import scipy.stats as stats\n",
        "import matplotlib.pyplot as plt\n",
        "import seaborn as sns\n",
        "from statsmodels.stats.proportion import proportions_ztest, proportion_confint\n",
        "from matplotlib import pyplot as plt\n",
        "import numpy as np\n",
        "from sklearn import preprocessing\n",
        "from scipy.stats import ttest_ind"
      ],
      "execution_count": null,
      "outputs": []
    },
    {
      "cell_type": "markdown",
      "metadata": {
        "id": "K4MT6Tnl_tpn"
      },
      "source": [
        "## Загрузим исходные данные "
      ]
    },
    {
      "cell_type": "code",
      "metadata": {
        "id": "yBE7xK0R8ajh"
      },
      "source": [
        "active_studs = pd.read_csv(\"/content/active_studs.csv\")\n",
        "checks = pd.read_csv(\"/content/checks.csv\",sep=';')\n",
        "groups = pd.read_csv(\"/content/groups.csv\",sep=';')"
      ],
      "execution_count": null,
      "outputs": []
    },
    {
      "cell_type": "code",
      "metadata": {
        "colab": {
          "base_uri": "https://localhost:8080/"
        },
        "id": "DMnatXbZ6z-5",
        "outputId": "0018134b-c517-4642-f752-f2ee98739d5e"
      },
      "source": [
        "checks.info()\n",
        "active_studs.info()\n",
        "groups.info()"
      ],
      "execution_count": null,
      "outputs": [
        {
          "output_type": "stream",
          "text": [
            "<class 'pandas.core.frame.DataFrame'>\n",
            "RangeIndex: 541 entries, 0 to 540\n",
            "Data columns (total 2 columns):\n",
            " #   Column      Non-Null Count  Dtype  \n",
            "---  ------      --------------  -----  \n",
            " 0   student_id  541 non-null    int64  \n",
            " 1   rev         541 non-null    float64\n",
            "dtypes: float64(1), int64(1)\n",
            "memory usage: 8.6 KB\n",
            "<class 'pandas.core.frame.DataFrame'>\n",
            "RangeIndex: 8341 entries, 0 to 8340\n",
            "Data columns (total 1 columns):\n",
            " #   Column      Non-Null Count  Dtype\n",
            "---  ------      --------------  -----\n",
            " 0   student_id  8341 non-null   int64\n",
            "dtypes: int64(1)\n",
            "memory usage: 65.3 KB\n",
            "<class 'pandas.core.frame.DataFrame'>\n",
            "RangeIndex: 74576 entries, 0 to 74575\n",
            "Data columns (total 2 columns):\n",
            " #   Column  Non-Null Count  Dtype \n",
            "---  ------  --------------  ----- \n",
            " 0   id      74576 non-null  int64 \n",
            " 1   grp     74576 non-null  object\n",
            "dtypes: int64(1), object(1)\n",
            "memory usage: 1.1+ MB\n"
          ],
          "name": "stdout"
        }
      ]
    },
    {
      "cell_type": "markdown",
      "metadata": {
        "id": "oaBozuTxARtA"
      },
      "source": [
        "## Преобразуем таблицы для дальнейших расчетов"
      ]
    },
    {
      "cell_type": "code",
      "metadata": {
        "colab": {
          "base_uri": "https://localhost:8080/",
          "height": 204
        },
        "id": "bdOFJo-tLECk",
        "outputId": "586dcc0f-feb2-4727-97f4-b35ef52ed57e"
      },
      "source": [
        "active_studs_grp = pd.merge(active_studs, groups, left_on='student_id', right_on='id').drop(\"id\", axis=1) # таблица активных пользователей и группы, к которой они принадлежат\n",
        "active_studs_grp.head()"
      ],
      "execution_count": null,
      "outputs": [
        {
          "output_type": "execute_result",
          "data": {
            "text/html": [
              "<div>\n",
              "<style scoped>\n",
              "    .dataframe tbody tr th:only-of-type {\n",
              "        vertical-align: middle;\n",
              "    }\n",
              "\n",
              "    .dataframe tbody tr th {\n",
              "        vertical-align: top;\n",
              "    }\n",
              "\n",
              "    .dataframe thead th {\n",
              "        text-align: right;\n",
              "    }\n",
              "</style>\n",
              "<table border=\"1\" class=\"dataframe\">\n",
              "  <thead>\n",
              "    <tr style=\"text-align: right;\">\n",
              "      <th></th>\n",
              "      <th>student_id</th>\n",
              "      <th>grp</th>\n",
              "    </tr>\n",
              "  </thead>\n",
              "  <tbody>\n",
              "    <tr>\n",
              "      <th>0</th>\n",
              "      <td>581585</td>\n",
              "      <td>A</td>\n",
              "    </tr>\n",
              "    <tr>\n",
              "      <th>1</th>\n",
              "      <td>5723133</td>\n",
              "      <td>A</td>\n",
              "    </tr>\n",
              "    <tr>\n",
              "      <th>2</th>\n",
              "      <td>3276743</td>\n",
              "      <td>B</td>\n",
              "    </tr>\n",
              "    <tr>\n",
              "      <th>3</th>\n",
              "      <td>4238589</td>\n",
              "      <td>A</td>\n",
              "    </tr>\n",
              "    <tr>\n",
              "      <th>4</th>\n",
              "      <td>4475369</td>\n",
              "      <td>B</td>\n",
              "    </tr>\n",
              "  </tbody>\n",
              "</table>\n",
              "</div>"
            ],
            "text/plain": [
              "   student_id grp\n",
              "0      581585   A\n",
              "1     5723133   A\n",
              "2     3276743   B\n",
              "3     4238589   A\n",
              "4     4475369   B"
            ]
          },
          "metadata": {
            "tags": []
          },
          "execution_count": 28
        }
      ]
    },
    {
      "cell_type": "code",
      "metadata": {
        "id": "rNGGY1HT8oEz"
      },
      "source": [
        "active_studs_a = pd.merge(active_studs, groups.loc[groups[\"grp\"] == \"A\"], left_on='student_id', right_on='id').drop(\"id\", axis=1) #Таблица активных пользователей из группы А\n",
        "active_studs_b = pd.merge(active_studs, groups.loc[groups[\"grp\"] == \"B\"], left_on='student_id', right_on='id').drop(\"id\", axis=1) #Таблица активных пользователей из группы B\n",
        "checks_a = pd.merge(checks, groups.loc[groups[\"grp\"] == \"A\"], left_on='student_id', right_on='id').drop(\"id\", axis=1) #Таблица пользователей совершивших покупку из группы А\n",
        "checks_b = pd.merge(checks, groups.loc[groups[\"grp\"] == \"B\"], left_on='student_id', right_on='id').drop(\"id\", axis=1) #Таблица пользователей совершивших покупку из группы А"
      ],
      "execution_count": null,
      "outputs": []
    },
    {
      "cell_type": "markdown",
      "metadata": {
        "id": "JT4YMishAp_k"
      },
      "source": [
        "## Оценим изменение конверсии между группами А и B, используя показатель CR активных пользователей в покупку"
      ]
    },
    {
      "cell_type": "markdown",
      "metadata": {
        "id": "BXPLzfBDBHFc"
      },
      "source": [
        "#### Визуально на графике показатели практически не отличаются"
      ]
    },
    {
      "cell_type": "code",
      "metadata": {
        "colab": {
          "base_uri": "https://localhost:8080/",
          "height": 429
        },
        "id": "TlRcZBwAFI3C",
        "outputId": "cee9c2e0-326c-4049-dfc8-ef874953ed1b"
      },
      "source": [
        "CR_a = checks_a.student_id.nunique()/active_studs_a.student_id.nunique() #CR для группы А\n",
        "CR_b = checks_b.student_id.nunique()/active_studs_b.student_id.nunique() #CR для группы B\n",
        "\n",
        "\n",
        "plt.figure(figsize=(8,6))\n",
        "\n",
        "sns.barplot(x=[\"A\",\"B\"], y=[CR_a,CR_b])\n",
        "\n",
        "plt.ylim(0, 0.17)\n",
        "plt.title('Conversion rate by group', pad=20)\n",
        "plt.xlabel('Group', labelpad=15)\n",
        "plt.ylabel('Converted (proportion)', labelpad=15);"
      ],
      "execution_count": null,
      "outputs": [
        {
          "output_type": "display_data",
          "data": {
            "image/png": "[encoded data removed]",
            "text/plain": [
              "<Figure size 576x432 with 1 Axes>"
            ]
          },
          "metadata": {
            "tags": [],
            "needs_background": "light"
          }
        }
      ]
    },
    {
      "cell_type": "markdown",
      "metadata": {
        "id": "M6D_NSHJBSRy"
      },
      "source": [
        "#### Проведем z-test и получим, что отличия двух выборок статистически незначимы и мы не можем отклонить нулевую гипотезу о равенстве распределений"
      ]
    },
    {
      "cell_type": "code",
      "metadata": {
        "colab": {
          "base_uri": "https://localhost:8080/"
        },
        "id": "bpMGcXkgPrYl",
        "outputId": "59f4aed0-676c-4a71-848b-2ef68c956d1a"
      },
      "source": [
        "\n",
        "n_a = active_studs_a.student_id.nunique()\n",
        "n_b = active_studs_b.student_id.nunique()\n",
        "successes = [checks_a.student_id.nunique(), checks_b.student_id.nunique()]\n",
        "nobs = [n_a, n_b]\n",
        "\n",
        "z_stat, pval = proportions_ztest(successes, nobs=nobs)\n",
        "(lower_a, lower_b), (upper_a, upper_b) = proportion_confint(successes, nobs=nobs, alpha=0.05)\n",
        "\n",
        "print(f'z statistic: {z_stat:.2f}')\n",
        "print(f'p-value: {pval:.3f}')\n",
        "print(f'ci 95% for A group: [{lower_a:.3f}, {upper_a:.3f}]')\n",
        "print(f'ci 95% for B group: [{lower_b:.3f}, {upper_b:.3f}]')"
      ],
      "execution_count": null,
      "outputs": [
        {
          "output_type": "stream",
          "text": [
            "z statistic: 0.83\n",
            "p-value: 0.406\n",
            "ci 95% for A group: [0.057, 0.082]\n",
            "ci 95% for B group: [0.058, 0.070]\n"
          ],
          "name": "stdout"
        }
      ]
    },
    {
      "cell_type": "markdown",
      "metadata": {
        "id": "nEilZmtLIbG_"
      },
      "source": [
        "## Предположим, что новая механика оплаты может повлиять на итоговую сумму, которую пользователь потратит. Проверим, изменилось ли количество денег, которые пользователь тратит на покупку занятий. \n",
        "\n",
        "#### Сравним показатели ARPAU и заметим, что разница уже более существенная"
      ]
    },
    {
      "cell_type": "code",
      "metadata": {
        "colab": {
          "base_uri": "https://localhost:8080/",
          "height": 463
        },
        "id": "Fr8lb3OQpOMC",
        "outputId": "b7db35d5-7fb9-4c83-a62f-cbc9542e65a0"
      },
      "source": [
        "ARPAU_a = checks_a.rev.mean()\n",
        "ARPAU_b = checks_b.rev.mean()\n",
        "\n",
        "plt.figure(figsize=(8,6))\n",
        "sns.barplot(x=[\"A\",\"B\"], y=[ARPAU_a,ARPAU_b])\n",
        "\n",
        "plt.title('ARPAU by group', pad=20)\n",
        "plt.xlabel('Group', labelpad=15)\n",
        "plt.ylabel('Mean Revenue', labelpad=15)\n",
        "plt.show()\n",
        "print(f\"ARPAU in group A: {ARPAU_a}\")\n",
        "print(f\"ARPAU in group b: {ARPAU_b}\")"
      ],
      "execution_count": null,
      "outputs": [
        {
          "output_type": "display_data",
          "data": {
            "image/png": "[encoded data removed]",
            "text/plain": [
              "<Figure size 576x432 with 1 Axes>"
            ]
          },
          "metadata": {
            "tags": [],
            "needs_background": "light"
          }
        },
        {
          "output_type": "stream",
          "text": [
            "ARPAU in group A: 860.7102803738318\n",
            "ARPAU in group b: 1108.824893087558\n"
          ],
          "name": "stdout"
        }
      ]
    },
    {
      "cell_type": "markdown",
      "metadata": {
        "id": "L9WY5jwqUCUo"
      },
      "source": [
        "#### Используем bootstrap для семплирования и проведем t-test на получившихся выборках"
      ]
    },
    {
      "cell_type": "code",
      "metadata": {
        "id": "9lpZtR0rKc6I"
      },
      "source": [
        "mean_cost_a = []\n",
        "mean_cost_b = []\n",
        "np.random.seed(1)\n",
        "for i in range(1000):\n",
        "    sample_a = np.random.choice(checks_a.rev, checks_a.rev.size, replace=True)\n",
        "    sample_b = np.random.choice(checks_b.rev, checks_b.rev.size, replace=True)\n",
        "    mean_cost_a.append(sample_a.mean())\n",
        "    mean_cost_b.append(sample_b.mean())\n",
        "\n",
        "mean_cost_a = np.asarray(mean_cost_a)\n",
        "mean_cost_b = np.asarray(mean_cost_b) "
      ],
      "execution_count": null,
      "outputs": []
    },
    {
      "cell_type": "code",
      "metadata": {
        "colab": {
          "base_uri": "https://localhost:8080/",
          "height": 404
        },
        "id": "ZkZGrEEyRDDv",
        "outputId": "bae2d5f0-e895-47a8-d364-344a5d12856d"
      },
      "source": [
        "plt.figure(figsize=(8,6))\n",
        "plt.style.use('seaborn-deep')\n",
        "plt.title('Bootstrapped Distribution of ARPAU', pad=20)\n",
        "plt.hist([mean_cost_a, mean_cost_b], label=['A', 'B'], bins=30)\n",
        "plt.legend(loc='upper right')\n",
        "plt.show()"
      ],
      "execution_count": null,
      "outputs": [
        {
          "output_type": "display_data",
          "data": {
            "image/png": "[encoded data removed]",
            "text/plain": [
              "<Figure size 576x432 with 1 Axes>"
            ]
          },
          "metadata": {
            "tags": [],
            "needs_background": "light"
          }
        }
      ]
    },
    {
      "cell_type": "markdown",
      "metadata": {
        "id": "GGMzDMCLUTYZ"
      },
      "source": [
        "#### Приходим к выводу, что средние затраты одного пользователя статистически значимо увеличились."
      ]
    },
    {
      "cell_type": "code",
      "metadata": {
        "colab": {
          "base_uri": "https://localhost:8080/"
        },
        "id": "HaRYrR8mp4ZV",
        "outputId": "be584f00-d2d6-4f0c-f7ad-bd68a06a62df"
      },
      "source": [
        "stat, p = ttest_ind(mean_cost_a, mean_cost_b, equal_var=False)\n",
        "print('Statistics=%.3f, p=%.3f' % (stat, p))\n",
        "alpha = 0.05\n",
        "if p > alpha:\n",
        "\tprint('Same distributions (fail to reject H0)')\n",
        "else:\n",
        "\tprint('Different distributions (reject H0)')"
      ],
      "execution_count": null,
      "outputs": [
        {
          "output_type": "stream",
          "text": [
            "Statistics=-93.712, p=0.000\n",
            "Different distributions (reject H0)\n"
          ],
          "name": "stdout"
        }
      ]
    },
    {
      "cell_type": "markdown",
      "metadata": {
        "id": "sQ42tfNQVFpn"
      },
      "source": [
        "### Таким образом, новая форма оплаты не влияет на количество покупок на сайте, но увеличивает сумму покупки. Исходя из вышесказанного, запуск новой механики оплаты скорее всего положительно отразится на финансовом результате компании.\n"
      ]
    }
  ]
}